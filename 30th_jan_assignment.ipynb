{
 "cells": [
  {
   "cell_type": "markdown",
   "id": "d57e97d0-39ee-4f92-bc14-49d72c514b6c",
   "metadata": {},
   "source": [
    "## Q1"
   ]
  },
  {
   "cell_type": "code",
   "execution_count": 5,
   "id": "b564242e-79bb-445a-87a0-7a1cc4e837e6",
   "metadata": {},
   "outputs": [
    {
     "name": "stdin",
     "output_type": "stream",
     "text": [
      "Please enter your marks:  85\n"
     ]
    },
    {
     "name": "stdout",
     "output_type": "stream",
     "text": [
      "Your grade is B\n"
     ]
    }
   ],
   "source": [
    "marks = int(input(\"Please enter your marks: \"))\n",
    "if marks >90:\n",
    "    print(\"Your grade is A\")\n",
    "elif marks > 80 and marks<=90:\n",
    "    print(\"Your grade is B\")\n",
    "elif marks >=60 and marks<=80:\n",
    "    print(\"Your grade is C\")\n",
    "else:\n",
    "    print(\"Your grade is D\")"
   ]
  },
  {
   "cell_type": "markdown",
   "id": "7dafb327-ac23-4183-9e74-fd4c21ee491d",
   "metadata": {},
   "source": [
    "## Q2"
   ]
  },
  {
   "cell_type": "code",
   "execution_count": 8,
   "id": "f47f5b90-81c0-4544-a058-0ba11b8e14cc",
   "metadata": {},
   "outputs": [
    {
     "name": "stdin",
     "output_type": "stream",
     "text": [
      "Please enter the Price of your Vehicle:  120000\n"
     ]
    },
    {
     "name": "stdout",
     "output_type": "stream",
     "text": [
      "Road tax to be paid is 18000.0\n"
     ]
    }
   ],
   "source": [
    "cost_price = int(input(\"Please enter the Price of your Vehicle: \"))\n",
    "if cost_price >100000:\n",
    "    print(f'Road tax to be paid is {.15*cost_price}')\n",
    "elif cost_price>50000 and cost_price<= 100000:\n",
    "    print(f'Road tax to be paid is {.10*cost_price}')\n",
    "else:\n",
    "    print(f\"Road tax to be paid is {.05*cost_price}\")"
   ]
  },
  {
   "cell_type": "markdown",
   "id": "83eff548-3b5f-4073-993e-d29da82a48c6",
   "metadata": {},
   "source": [
    "## Q3"
   ]
  },
  {
   "cell_type": "code",
   "execution_count": 15,
   "id": "277a81c9-2cd6-4571-89a5-6ae1b658d67f",
   "metadata": {},
   "outputs": [
    {
     "name": "stdin",
     "output_type": "stream",
     "text": [
      "Please enter the Price of your Vehicle:  RAJASHthan\n"
     ]
    },
    {
     "name": "stdout",
     "output_type": "stream",
     "text": [
      "Trying to add more cities and their Monument till then relax\n"
     ]
    }
   ],
   "source": [
    "city_name = input(\"Please enter the Price of your Vehicle: \").lower()\n",
    "dic = {\"delhi\":\"Red Fort\",\"agra\":\"Taj Mahal\",\"jaipur\":\"Jal Mahal\"}\n",
    "if city_name == \"delhi\":\n",
    "    print(f'The Monument that is in delhi is {dic.get(city_name)}')\n",
    "elif city_name == \"agra\":\n",
    "    print(f'The Monumnent that is in agra is {dic.get(city_name)}')\n",
    "elif city_name == \"jaipur\":\n",
    "    print(f'The Monumnent that is in jaipur is {dic.get(city_name)}')\n",
    "else:\n",
    "    print(\"Trying to add more cities and their Monument till then relax\")"
   ]
  },
  {
   "cell_type": "markdown",
   "id": "679e04bb-a982-43f9-adb0-4b4ff802f96d",
   "metadata": {},
   "source": [
    "## Q4"
   ]
  },
  {
   "cell_type": "code",
   "execution_count": 37,
   "id": "5f9b09ab-f5a1-40ff-b449-ebc4c4a408a1",
   "metadata": {},
   "outputs": [
    {
     "name": "stdin",
     "output_type": "stream",
     "text": [
      "Please Pass the Values that are divisible 3:  130\n"
     ]
    },
    {
     "name": "stdout",
     "output_type": "stream",
     "text": [
      "43.333333333333336\n",
      "14.444444444444445\n",
      "4.814814814814815\n"
     ]
    }
   ],
   "source": [
    "num = int(input(\"Please Pass the Values that are divisible 3: \"))\n",
    "count=0\n",
    "while num >=10:\n",
    "    if num / 3:\n",
    "        count+=1\n",
    "        num=num/3\n",
    "        print(num)\n",
    "        "
   ]
  },
  {
   "cell_type": "code",
   "execution_count": 38,
   "id": "19980648-e8b4-4f0f-819e-797c5f97c612",
   "metadata": {},
   "outputs": [
    {
     "data": {
      "text/plain": [
       "3"
      ]
     },
     "execution_count": 38,
     "metadata": {},
     "output_type": "execute_result"
    }
   ],
   "source": [
    "count"
   ]
  },
  {
   "cell_type": "markdown",
   "id": "565c56b1-3eb1-4014-80bc-ca3e5ad44e3c",
   "metadata": {},
   "source": [
    "## Q5"
   ]
  },
  {
   "cell_type": "markdown",
   "id": "3b6e6f4a-586d-430e-91d9-72406b5cea75",
   "metadata": {},
   "source": [
    "While loop is used for running a code unknown time till it meets the underlying condition. For example\n",
    "we used while loop to find out how many times a number is divisible by 3 until it is less than or equal to 10. So if same scenario arises we can use while loop."
   ]
  },
  {
   "cell_type": "markdown",
   "id": "567584cb-f1b4-4b1f-8727-b0f32bbe98d9",
   "metadata": {},
   "source": [
    "## Q6"
   ]
  },
  {
   "cell_type": "code",
   "execution_count": 5,
   "id": "97832301-0427-4684-a41d-43b9c30c65fc",
   "metadata": {},
   "outputs": [
    {
     "name": "stdin",
     "output_type": "stream",
     "text": [
      "Enter the Number of stars You want to see:  10\n"
     ]
    },
    {
     "name": "stdout",
     "output_type": "stream",
     "text": [
      "**********\n",
      "*********\n",
      "********\n",
      "*******\n",
      "******\n",
      "*****\n",
      "****\n",
      "***\n",
      "**\n",
      "*\n"
     ]
    }
   ],
   "source": [
    "num=int(input('Enter the Number of stars You want to see: '))\n",
    "while num:\n",
    "    print(num*'*')\n",
    "    num-=1"
   ]
  },
  {
   "cell_type": "code",
   "execution_count": 3,
   "id": "3c52b0b1-770c-47b6-9e8d-8e73d8494ec3",
   "metadata": {},
   "outputs": [
    {
     "name": "stdin",
     "output_type": "stream",
     "text": [
      "The number of stars you want to print 10\n"
     ]
    },
    {
     "name": "stdout",
     "output_type": "stream",
     "text": [
      "\n",
      "*\n",
      "**\n",
      "***\n",
      "****\n",
      "*****\n",
      "******\n",
      "*******\n",
      "********\n",
      "*********\n",
      "**********\n"
     ]
    }
   ],
   "source": [
    "number = int(input('The number of stars you want to print'))\n",
    "num=0\n",
    "while num <=number:\n",
    "    print('*'*num)\n",
    "    num+=1"
   ]
  },
  {
   "cell_type": "code",
   "execution_count": 6,
   "id": "d1292f0c-2f40-4ec1-a900-07c818b13a16",
   "metadata": {},
   "outputs": [
    {
     "name": "stdin",
     "output_type": "stream",
     "text": [
      "Enter Numbers you want to see:  10\n"
     ]
    },
    {
     "name": "stdout",
     "output_type": "stream",
     "text": [
      "\n",
      "1\n",
      "22\n",
      "333\n",
      "4444\n",
      "55555\n",
      "666666\n",
      "7777777\n",
      "88888888\n",
      "999999999\n",
      "10101010101010101010\n"
     ]
    }
   ],
   "source": [
    "number = int(input(\"Enter Numbers you want to see: \"))\n",
    "num=0\n",
    "while num<=number:\n",
    "    print(num*str(num))\n",
    "    num+=1"
   ]
  },
  {
   "cell_type": "markdown",
   "id": "bd69a508-1938-4093-a81d-cc5477ecfeb3",
   "metadata": {},
   "source": [
    "## Q7"
   ]
  },
  {
   "cell_type": "code",
   "execution_count": 7,
   "id": "47600bc2-5836-4878-b29a-a5b6217fa4df",
   "metadata": {},
   "outputs": [
    {
     "name": "stdin",
     "output_type": "stream",
     "text": [
      "Enter the number 10\n"
     ]
    },
    {
     "name": "stdout",
     "output_type": "stream",
     "text": [
      "10\n",
      "9\n",
      "8\n",
      "7\n",
      "6\n",
      "5\n",
      "4\n",
      "3\n",
      "2\n",
      "1\n"
     ]
    }
   ],
   "source": [
    "num=int(input(\"Enter the number\"))\n",
    "while num:\n",
    "    print(num)\n",
    "    num-=1"
   ]
  },
  {
   "cell_type": "code",
   "execution_count": null,
   "id": "72bac4e6-4e37-4445-b76f-f5fdc62a824a",
   "metadata": {},
   "outputs": [],
   "source": []
  }
 ],
 "metadata": {
  "kernelspec": {
   "display_name": "Python 3 (ipykernel)",
   "language": "python",
   "name": "python3"
  },
  "language_info": {
   "codemirror_mode": {
    "name": "ipython",
    "version": 3
   },
   "file_extension": ".py",
   "mimetype": "text/x-python",
   "name": "python",
   "nbconvert_exporter": "python",
   "pygments_lexer": "ipython3",
   "version": "3.10.8"
  }
 },
 "nbformat": 4,
 "nbformat_minor": 5
}
